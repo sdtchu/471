{
 "cells": [
  {
   "cell_type": "markdown",
   "metadata": {},
   "source": [
    "### Classic two water jugs problem\n",
    "\n",
    "Given two jugs J1 and J2 with capacities C1 and C2, initially filled with W1 and W2.  Can you end up with exactly G1 liters in J1 and G2 liters in J2?  You're allowed the following actions: dump the contents of either jug onto the floor, or pour the contents of one jug into the other untill either the jug from which you are pouring is empty or the one you are filling is full."
   ]
  },
  {
   "cell_type": "markdown",
   "metadata": {},
   "source": [
    "### load the AIMA search.py file\n",
    "We assume that search.py and any other files it needs is in this local directory or accessible in your Python environment"
   ]
  },
  {
   "cell_type": "code",
   "execution_count": 1,
   "metadata": {},
   "outputs": [],
   "source": [
    "# import the AIMA search code\n",
    "import search as s"
   ]
  },
  {
   "cell_type": "markdown",
   "metadata": {},
   "source": [
    "### Define a subclass of AIMA search's Problem class for the Water Jug problem"
   ]
  },
  {
   "cell_type": "code",
   "execution_count": 2,
   "metadata": {},
   "outputs": [],
   "source": [
    "class WJ(s.Problem):\n",
    "    \"\"\"\n",
    "    STATE: tuple like (3,2) if jug J1 has 3 liters and J2 2 liters\n",
    "    GOAL: a state except with -1 representing a 'don't care', so\n",
    "      valid goals include (1,1) and (-1,2).\n",
    "    PROBLEM: Specify capacities of each jug, initial state and goal \"\"\"\n",
    "\n",
    "    def __init__(self, capacities=(5,2), initial=(5,0), goal=(0,1)):\n",
    "        self.capacities = capacities\n",
    "        self.initial = initial\n",
    "        self.goal = goal\n",
    "\n",
    "    def __repr__(self):\n",
    "        \"\"\" Returns a string representing the object \"\"\"\n",
    "        return f\"WJ({self.capacities},{self.initial},{self.goal}\"\n",
    "    def goal_test(self, state):\n",
    "        \"\"\" Returns True iff state is a goal state \"\"\"\n",
    "        G1, G2 = self.goal\n",
    "        return (state[0] == G1 or G1 < 0) and \\\n",
    "               (state[1] == G2 or G2 < 0)\n",
    "\n",
    "    def h(self, node):\n",
    "        \"\"\" Estimate of cost of shortest path from node to a goal \"\"\"\n",
    "        return 0 if self.goal_test(node.state) else 1\n",
    "    \n",
    "    def actions(self, state):\n",
    "        \"\"\" generates legal actions for state \"\"\"\n",
    "        (J1, J2) = state\n",
    "        (C1, C2) = self.capacities\n",
    "        if J1>0: yield(('dump', 1, 0))\n",
    "        if J2>0: yield(('dump', 2, 0))\n",
    "        if J2<C2 and J1>0: yield(('pour', 1, 2))\n",
    "        if J1<C1 and J2>0: yield(('pour', 2, 1))\n",
    "\n",
    "    def result(self, state, action):\n",
    "        \"\"\"Given state & action, returns successor after doing action\"\"\"\n",
    "        act, arg1, arg2 = action\n",
    "        (J1, J2), (C1, C2) = state, self.capacities\n",
    "        if act == 'dump':\n",
    "            return (0, J2) if arg1 == 1 else (J1, 0)\n",
    "        elif act == 'pour':\n",
    "            if arg1 == 1:\n",
    "                delta = min(J1, C2-J2)\n",
    "                return (J1-delta, J2+delta)\n",
    "            else:\n",
    "                delta = min(J2, C1-J1)\n",
    "                return (J1+delta, J2-delta)\n",
    "\n",
    "    def path_cost(self, c, state1, action, state2):\n",
    "        \"\"\"Cost of path from start node to state1 assuming cost c to\n",
    "        get to state1 and doing action to get to state2 \"\"\"\n",
    "        return c + 1"
   ]
  },
  {
   "cell_type": "markdown",
   "metadata": {},
   "source": [
    "### Create a problem instance"
   ]
  },
  {
   "cell_type": "code",
   "execution_count": 3,
   "metadata": {},
   "outputs": [
    {
     "name": "stdout",
     "output_type": "stream",
     "text": [
      "Problem: WJ((9, 4),(9, 4),(1, 0)\n"
     ]
    }
   ],
   "source": [
    "p = WJ((9,4), (9,4), (1,0)) \n",
    "print(\"Problem:\", p)                                                              "
   ]
  },
  {
   "cell_type": "markdown",
   "metadata": {},
   "source": [
    "### A node’s path is the best way to get to it from the start node, i.e., a solution\n",
    "the path is a list of tuples like (action, resulting_state) from the state state to the solution found"
   ]
  },
  {
   "cell_type": "code",
   "execution_count": 4,
   "metadata": {},
   "outputs": [],
   "source": [
    "def print_answer(ans):\n",
    "    if ans:\n",
    "        print(f\"Solution with cost {ans.path_cost}: {[(node.action, node) for node in ans.path()]}\")\n",
    "    else:\n",
    "        print(\"No solution found 🙁\")"
   ]
  },
  {
   "cell_type": "code",
   "execution_count": 5,
   "metadata": {},
   "outputs": [
    {
     "name": "stdout",
     "output_type": "stream",
     "text": [
      "Solution with cost 5: [(None, <Node (9, 4)>), (('dump', 2, 0), <Node (9, 0)>), (('pour', 1, 2), <Node (5, 4)>), (('dump', 2, 0), <Node (5, 0)>), (('pour', 1, 2), <Node (1, 4)>), (('dump', 2, 0), <Node (1, 0)>)]\n"
     ]
    }
   ],
   "source": [
    "# Use breadth first graph search function. Result will be None\n",
    "# if the search failed or a goal node in the search graph if successful.\n",
    "print_answer(s.breadth_first_graph_search(p))"
   ]
  },
  {
   "cell_type": "code",
   "execution_count": 6,
   "metadata": {},
   "outputs": [
    {
     "name": "stdout",
     "output_type": "stream",
     "text": [
      "Solution with cost 5: [(None, <Node (9, 4)>), (('dump', 2, 0), <Node (9, 0)>), (('pour', 1, 2), <Node (5, 4)>), (('dump', 2, 0), <Node (5, 0)>), (('pour', 1, 2), <Node (1, 4)>), (('dump', 2, 0), <Node (1, 0)>)]\n"
     ]
    }
   ],
   "source": [
    "print_answer(s.depth_first_graph_search(p))"
   ]
  },
  {
   "cell_type": "markdown",
   "metadata": {},
   "source": [
    "### AIMA python code as a function to compare searches"
   ]
  },
  {
   "cell_type": "code",
   "execution_count": 7,
   "metadata": {},
   "outputs": [
    {
     "name": "stdout",
     "output_type": "stream",
     "text": [
      "SEARCH ALGORITHM             successors/goal tests/states generated/solution\n",
      "breadth_first_tree_search    <  25/  26/  37/(0, >                          \n",
      "breadth_first_graph_search   <   8/   9/  16/(0, >                          \n",
      "depth_first_graph_search     <   5/   6/  12/(0, >                          \n",
      "iterative_deepening_search   <  35/  61/  57/(0, >                          \n"
     ]
    }
   ],
   "source": [
    "searchers=[s.breadth_first_tree_search, s.breadth_first_graph_search, s.depth_first_graph_search, s.iterative_deepening_search] \n",
    "s.compare_searchers([WJ((5,2), (5,0), (0,1))], \n",
    "                    ['SEARCH ALGORITHM', 'successors/goal tests/states generated/solution'], \n",
    "                    searchers)\n"
   ]
  },
  {
   "cell_type": "markdown",
   "metadata": {},
   "source": [
    "### fin"
   ]
  },
  {
   "cell_type": "code",
   "execution_count": null,
   "metadata": {},
   "outputs": [],
   "source": []
  }
 ],
 "metadata": {
  "anaconda-cloud": {},
  "kernelspec": {
   "display_name": "Python 3 (ipykernel)",
   "language": "python",
   "name": "python3"
  },
  "language_info": {
   "codemirror_mode": {
    "name": "ipython",
    "version": 3
   },
   "file_extension": ".py",
   "mimetype": "text/x-python",
   "name": "python",
   "nbconvert_exporter": "python",
   "pygments_lexer": "ipython3",
   "version": "3.9.7"
  }
 },
 "nbformat": 4,
 "nbformat_minor": 2
}
