{
 "cells": [
  {
   "cell_type": "code",
   "execution_count": 2,
   "metadata": {},
   "outputs": [
    {
     "name": "stdout",
     "output_type": "stream",
     "text": [
      "Defaulting to user installation because normal site-packages is not writeable\n",
      "Collecting numpy\n",
      "  Using cached numpy-2.2.3-cp313-cp313-win_amd64.whl.metadata (60 kB)\n",
      "Using cached numpy-2.2.3-cp313-cp313-win_amd64.whl (12.6 MB)\n",
      "Installing collected packages: numpy\n",
      "Successfully installed numpy-2.2.3\n",
      "Note: you may need to restart the kernel to use updated packages.\n"
     ]
    },
    {
     "name": "stderr",
     "output_type": "stream",
     "text": [
      "\n",
      "[notice] A new release of pip is available: 24.3.1 -> 25.0.1\n",
      "[notice] To update, run: python.exe -m pip install --upgrade pip\n"
     ]
    }
   ],
   "source": [
    "pip install numpy"
   ]
  },
  {
   "cell_type": "code",
   "execution_count": 1,
   "metadata": {},
   "outputs": [],
   "source": [
    "import dc"
   ]
  },
  {
   "cell_type": "code",
   "execution_count": 2,
   "metadata": {},
   "outputs": [],
   "source": [
    "problem = dc.DC(\"dog\", \"cat\", \"steps\")"
   ]
  },
  {
   "cell_type": "code",
   "execution_count": 3,
   "metadata": {},
   "outputs": [
    {
     "name": "stdout",
     "output_type": "stream",
     "text": [
      "action appended: a, 1\n",
      "action appended: b, 0\n",
      "action appended: c, 0\n",
      "action appended: c, 2\n",
      "action appended: d, 0\n",
      "action appended: e, 2\n",
      "action appended: f, 0\n",
      "action appended: g, 2\n",
      "action appended: h, 0\n",
      "action appended: i, 1\n",
      "action appended: j, 0\n",
      "action appended: l, 0\n",
      "action appended: l, 2\n",
      "action appended: m, 0\n",
      "action appended: m, 2\n",
      "action appended: n, 0\n",
      "action appended: n, 2\n",
      "action appended: o, 1\n",
      "action appended: r, 2\n",
      "action appended: s, 2\n",
      "action appended: t, 2\n",
      "action appended: u, 1\n",
      "action appended: w, 0\n",
      "action appended: w, 2\n",
      "[['a', 1], ['b', 0], ['c', 0], ['c', 2], ['d', 0], ['e', 2], ['f', 0], ['g', 2], ['h', 0], ['i', 1], ['j', 0], ['l', 0], ['l', 2], ['m', 0], ['m', 2], ['n', 0], ['n', 2], ['o', 1], ['r', 2], ['s', 2], ['t', 2], ['u', 1], ['w', 0], ['w', 2]]\n"
     ]
    }
   ],
   "source": [
    "actions = problem.actions(problem.initial)\n",
    "print(actions)"
   ]
  },
  {
   "cell_type": "code",
   "execution_count": 4,
   "metadata": {},
   "outputs": [
    {
     "name": "stdout",
     "output_type": "stream",
     "text": [
      "dag\n",
      "bog\n",
      "cog\n",
      "doc\n",
      "dog\n",
      "doe\n",
      "fog\n",
      "dog\n",
      "hog\n",
      "dig\n",
      "jog\n",
      "log\n",
      "dol\n",
      "mog\n",
      "dom\n",
      "nog\n",
      "don\n",
      "dog\n",
      "dor\n",
      "dos\n",
      "dot\n",
      "dug\n",
      "wog\n",
      "dow\n"
     ]
    }
   ],
   "source": [
    "for action in actions:\n",
    "    print(problem.result(problem.initial, action))"
   ]
  },
  {
   "cell_type": "code",
   "execution_count": null,
   "metadata": {},
   "outputs": [],
   "source": []
  }
 ],
 "metadata": {
  "kernelspec": {
   "display_name": "Python 3",
   "language": "python",
   "name": "python3"
  },
  "language_info": {
   "codemirror_mode": {
    "name": "ipython",
    "version": 3
   },
   "file_extension": ".py",
   "mimetype": "text/x-python",
   "name": "python",
   "nbconvert_exporter": "python",
   "pygments_lexer": "ipython3",
   "version": "3.13.1"
  }
 },
 "nbformat": 4,
 "nbformat_minor": 2
}
