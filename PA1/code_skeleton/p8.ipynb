{
 "cells": [
  {
   "cell_type": "markdown",
   "metadata": {},
   "source": [
    "# eight puzzle solver\n",
    "\n",
    "The 8-puzzle is a variation of the classic [15 puzzle](https://en.wikipedia.org/wiki/15_puzzle) with a 3x3 grid\n",
    "\n",
    "This notebook lets you experiment with a simple implementation that provides three subclasses of the AIMA Problem:\n",
    " * P8 : algorithm A with no heuristic; provides a simple breadth first graph search\n",
    " * P8_OOP : Algoritm A with the heuristic of the number of tiles out of place\n",
    " * P8_MHD: Algoritm A with the heuristic of the manhatten distance for each tile to where it should be "
   ]
  },
  {
   "cell_type": "code",
   "execution_count": 1,
   "metadata": {},
   "outputs": [],
   "source": [
    "import p8\n",
    "import search"
   ]
  },
  {
   "cell_type": "markdown",
   "metadata": {},
   "source": [
    "We represent a state as a string of eight digits and a * for the blank"
   ]
  },
  {
   "cell_type": "code",
   "execution_count": 2,
   "metadata": {},
   "outputs": [
    {
     "name": "stdout",
     "output_type": "stream",
     "text": [
      "123\n",
      "4*5\n",
      "678\n",
      "\n"
     ]
    }
   ],
   "source": [
    "initial_state = \"1234*5678\"\n",
    "p8.print_state(initial_state)"
   ]
  },
  {
   "cell_type": "markdown",
   "metadata": {},
   "source": [
    "Generate a goal state that is at most 10 steps away using a random walk.  There may be a way to get to it in fewer than 10 steps, but it will not require more."
   ]
  },
  {
   "cell_type": "code",
   "execution_count": 3,
   "metadata": {},
   "outputs": [
    {
     "name": "stdout",
     "output_type": "stream",
     "text": [
      "1724*8653\n"
     ]
    }
   ],
   "source": [
    "goal_state = p8.random_state(initial_state, 10)\n",
    "print(goal_state)"
   ]
  },
  {
   "cell_type": "markdown",
   "metadata": {},
   "source": [
    "find a solution using no heuristic"
   ]
  },
  {
   "cell_type": "code",
   "execution_count": 4,
   "metadata": {},
   "outputs": [],
   "source": [
    "p = p8.P8(initial=initial_state, goal=goal_state)\n",
    "answer = search.astar_search(p)"
   ]
  },
  {
   "cell_type": "markdown",
   "metadata": {},
   "source": [
    "The astar_search funcion performs an algorithm A search.  Since P8 has a no heuristic, it is the equivalent of a simple breadth first graph search. Given a problem, if it finds a solution it returns the an instance of a Node object representing the goal node found.  From this we can find a path back to the initial state."
   ]
  },
  {
   "cell_type": "code",
   "execution_count": 5,
   "metadata": {},
   "outputs": [
    {
     "data": {
      "text/plain": [
       "<Node 1724*8653>"
      ]
     },
     "execution_count": 5,
     "metadata": {},
     "output_type": "execute_result"
    }
   ],
   "source": [
    "answer"
   ]
  },
  {
   "cell_type": "markdown",
   "metadata": {},
   "source": [
    "We access the state of this node to print it"
   ]
  },
  {
   "cell_type": "code",
   "execution_count": 6,
   "metadata": {},
   "outputs": [
    {
     "name": "stdout",
     "output_type": "stream",
     "text": [
      "172\n",
      "4*8\n",
      "653\n",
      "\n"
     ]
    }
   ],
   "source": [
    "p8.print_state(answer.state)"
   ]
  },
  {
   "cell_type": "markdown",
   "metadata": {},
   "source": [
    "A Node's solution() method returns a list of actions staring with the initial state that produced it."
   ]
  },
  {
   "cell_type": "code",
   "execution_count": 7,
   "metadata": {},
   "outputs": [
    {
     "data": {
      "text/plain": [
       "['down', 'right', 'up', 'up', 'left', 'down', 'down', 'right', 'up', 'left']"
      ]
     },
     "execution_count": 7,
     "metadata": {},
     "output_type": "execute_result"
    }
   ],
   "source": [
    "answer.solution()"
   ]
  },
  {
   "cell_type": "markdown",
   "metadata": {},
   "source": [
    "A Node's path() method returns a list of the Node instances from the initial to the goal node."
   ]
  },
  {
   "cell_type": "code",
   "execution_count": 8,
   "metadata": {},
   "outputs": [
    {
     "data": {
      "text/plain": [
       "[<Node 1234*5678>,\n",
       " <Node 1234756*8>,\n",
       " <Node 12347568*>,\n",
       " <Node 12347*685>,\n",
       " <Node 12*473685>,\n",
       " <Node 1*2473685>,\n",
       " <Node 1724*3685>,\n",
       " <Node 1724836*5>,\n",
       " <Node 17248365*>,\n",
       " <Node 17248*653>,\n",
       " <Node 1724*8653>]"
      ]
     },
     "execution_count": 8,
     "metadata": {},
     "output_type": "execute_result"
    }
   ],
   "source": [
    "answer.path()"
   ]
  },
  {
   "cell_type": "markdown",
   "metadata": {},
   "source": [
    "We can use our custom printsoln() function to print this in a 8-puzzle specific way."
   ]
  },
  {
   "cell_type": "code",
   "execution_count": 9,
   "metadata": {},
   "outputs": [
    {
     "name": "stdout",
     "output_type": "stream",
     "text": [
      "10 steps from 1234*5678 to 1724*8653\n",
      "None\t123\n",
      "\t4*5\n",
      "\t678\n",
      "\n",
      "down\t123\n",
      "\t475\n",
      "\t6*8\n",
      "\n",
      "right\t123\n",
      "\t475\n",
      "\t68*\n",
      "\n",
      "up\t123\n",
      "\t47*\n",
      "\t685\n",
      "\n",
      "up\t12*\n",
      "\t473\n",
      "\t685\n",
      "\n",
      "left\t1*2\n",
      "\t473\n",
      "\t685\n",
      "\n",
      "down\t172\n",
      "\t4*3\n",
      "\t685\n",
      "\n",
      "down\t172\n",
      "\t483\n",
      "\t6*5\n",
      "\n",
      "right\t172\n",
      "\t483\n",
      "\t65*\n",
      "\n",
      "up\t172\n",
      "\t48*\n",
      "\t653\n",
      "\n",
      "left\t172\n",
      "\t4*8\n",
      "\t653\n",
      "\n"
     ]
    }
   ],
   "source": [
    "p8.printsoln(answer)"
   ]
  },
  {
   "cell_type": "markdown",
   "metadata": {},
   "source": [
    "Finally, we can use a custom function to compare the three heuristics on 8-puzzle problems of different difficulty.  Running P8 with the NIL heurostic for a problem needing 18 steps will take between 1 and 2 minutes, but the OOP and MDH heuristics produce solutions quickly."
   ]
  },
  {
   "cell_type": "code",
   "execution_count": null,
   "metadata": {},
   "outputs": [
    {
     "name": "stdout",
     "output_type": "stream",
     "text": [
      "\n",
      "142*75368 => *12345678 (5 steps from start)\n",
      "heur.\tsteps\tdepth\tstates\tsuccs\tEBF\tseconds\n",
      "NIL\t5\t5\t92\t33\t2.01\t0.00150\n",
      "OOP\t5\t5\t17\t6\t1.43\t0.00031\n",
      "MHD\t5\t5\t15\t5\t1.38\t0.00030\n",
      "\n",
      "47215836* => *12345678 (10 steps from start)\n",
      "heur.\tsteps\tdepth\tstates\tsuccs\tEBF\tseconds\n",
      "NIL\t10\t10\t1166\t420\t1.83\t0.05492\n",
      "OOP\t10\t10\t59\t21\t1.36\t0.00040\n",
      "MHD\t10\t10\t29\t10\t1.26\t0.00027\n",
      "\n",
      "4256137*8 => *12345678 (15 steps from start)\n",
      "heur.\tsteps\tdepth\tstates\tsuccs\tEBF\tseconds\n",
      "NIL\t15\t11\t2148\t771\t1.83\t0.09363\n",
      "OOP\t15\t11\t115\t42\t1.40\t0.00063\n",
      "MHD\t15\t11\t49\t17\t1.29\t0.00032\n",
      "\n",
      "3256*1487 => *12345678 (18 steps from start)\n",
      "heur.\tsteps\tdepth\tstates\tsuccs\tEBF\tseconds\n"
     ]
    }
   ],
   "source": [
    "p8.run_problems(steps=[5,10,15,18])"
   ]
  },
  {
   "cell_type": "markdown",
   "metadata": {},
   "source": [
    "**FIN**"
   ]
  },
  {
   "cell_type": "code",
   "execution_count": null,
   "metadata": {},
   "outputs": [],
   "source": []
  }
 ],
 "metadata": {
  "kernelspec": {
   "display_name": "Python 3 (ipykernel)",
   "language": "python",
   "name": "python3"
  },
  "language_info": {
   "codemirror_mode": {
    "name": "ipython",
    "version": 3
   },
   "file_extension": ".py",
   "mimetype": "text/x-python",
   "name": "python",
   "nbconvert_exporter": "python",
   "pygments_lexer": "ipython3",
   "version": "3.9.7"
  }
 },
 "nbformat": 4,
 "nbformat_minor": 2
}
